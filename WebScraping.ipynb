{
 "cells": [
  {
   "cell_type": "code",
   "execution_count": 4,
   "id": "340b3a4e",
   "metadata": {},
   "outputs": [],
   "source": [
    "from selenium import webdriver\n",
    "from time import sleep \n",
    "\n",
    "driver = webdriver.Chrome()\n",
    "\n",
    "driver.get('https://br.linkedin.com/jobs/ci%C3%AAncia-de-dados-vagas?position=1&pageNum=0')\n",
    "driver.maximize_window()\n",
    "\n",
    "driver.implicitly_wait(10)\n",
    "resultados = driver.find_elements_by_class_name('base-search-card__title')\n",
    "\n",
    "descricao_list = []\n",
    "for row in resultados:\n",
    "    sleep(1)\n",
    "    row.click()\n",
    "    descricao = driver.find_element_by_class_name('description')\n",
    "    descricao_list.append(descricao.text)"
   ]
  },
  {
   "cell_type": "code",
   "execution_count": null,
   "id": "85860749",
   "metadata": {},
   "outputs": [],
   "source": []
  }
 ],
 "metadata": {
  "kernelspec": {
   "display_name": "Python 3",
   "language": "python",
   "name": "python3"
  },
  "language_info": {
   "codemirror_mode": {
    "name": "ipython",
    "version": 3
   },
   "file_extension": ".py",
   "mimetype": "text/x-python",
   "name": "python",
   "nbconvert_exporter": "python",
   "pygments_lexer": "ipython3",
   "version": "3.8.8"
  }
 },
 "nbformat": 4,
 "nbformat_minor": 5
}
